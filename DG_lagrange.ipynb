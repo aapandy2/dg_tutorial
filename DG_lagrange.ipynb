{
 "cells": [
  {
   "cell_type": "markdown",
   "id": "b1decb6f",
   "metadata": {},
   "source": [
    "# DG tutorial w. Lagrange"
   ]
  },
  {
   "cell_type": "code",
   "execution_count": 5,
   "id": "ec7c16cf",
   "metadata": {},
   "outputs": [],
   "source": [
    "#define imports\n",
    "%matplotlib inline\n",
    "import numpy as np\n",
    "import matplotlib.pyplot as pl\n",
    "from scipy.integrate import quad\n",
    "from numpy.linalg import inv\n",
    "from scipy.interpolate import lagrange\n",
    "from scipy.special import roots_legendre"
   ]
  },
  {
   "cell_type": "markdown",
   "id": "52c74c89",
   "metadata": {},
   "source": [
    "Set up the grid, initialize coefficient matrices, define roots of Legendre polynomials."
   ]
  },
  {
   "cell_type": "code",
   "execution_count": 12,
   "id": "2e4fce93",
   "metadata": {},
   "outputs": [],
   "source": [
    "#set up grid\n",
    "N = 7 #number of elements\n",
    "M = 7 #number of modes j\n",
    "\n",
    "#get Legendre roots; we don't need weights\n",
    "LegendreRoots, weights = roots_legendre(M)\n",
    "\n",
    "#define a_n to be a (N elements, M modes) array\n",
    "a_n   = np.zeros((N, M))\n",
    "a_np1 = np.zeros((N, M))\n",
    "\n",
    "#define CFL\n",
    "CFL = 0.005\n",
    "\n",
    "#define number of timesteps, TS\n",
    "TS = 250\n",
    "\n",
    "#set up grid\n",
    "xMax = 1.\n",
    "xMin = 0.\n",
    "\n",
    "#define size of a cell, dx\n",
    "dx = (xMax-xMin)/N\n",
    "dt = CFL * dx\n",
    "\n",
    "#define wave speed c\n",
    "c = 1."
   ]
  },
  {
   "cell_type": "markdown",
   "id": "9cfe2b0c",
   "metadata": {},
   "source": [
    "The cell below contains all of the code for the evolution scheme."
   ]
  },
  {
   "cell_type": "code",
   "execution_count": 13,
   "id": "3d8ff9c0",
   "metadata": {},
   "outputs": [],
   "source": [
    "#define Lagrange interpolating polynomial; take x in [-1, 1], \n",
    "#nodes (list of Legendre roots up to order M)\n",
    "def LagrangePoly(xi, j, nodes):\n",
    "    order = len(nodes)\n",
    "    \n",
    "    poly  = 1\n",
    "    for i in range(order):\n",
    "        if(i != j):\n",
    "            poly *= (xi-nodes[i])/(nodes[j]-nodes[i])\n",
    "            \n",
    "    return poly\n",
    "\n",
    "#define first derivative of Lagrange polynomial\n",
    "def dLagrangePoly(xi, j, nodes):\n",
    "    order = len(nodes)\n",
    "    \n",
    "    poly = 0\n",
    "    for i in range(order):\n",
    "        if(i != j):\n",
    "            poly += 1./(xi-nodes[i])\n",
    "            \n",
    "    poly *= LagrangePoly(xi, j, nodes)\n",
    "    \n",
    "    return poly\n",
    "\n",
    "#define coordinate mapping from cell index k\n",
    "#and logical coordinate xi to global coordinate x\n",
    "def x(k, xi):\n",
    "    return k*dx + (1+xi)/2*dx\n",
    "\n",
    "#define Jacobian of coordinate transform dx/dxi\n",
    "def J():\n",
    "    return dx/2\n",
    "\n",
    "#compute mass matrix:\n",
    "def Mij(nodes):\n",
    "    order = len(nodes)\n",
    "    \n",
    "    #define jacobian\n",
    "    jacobian = J()\n",
    "    \n",
    "    M = np.zeros((order, order))\n",
    "    for i in range(order):\n",
    "        for j in range(order):\n",
    "            M[i,j] = quad(lambda xi: \n",
    "                          jacobian\n",
    "                          *LagrangePoly(xi,i,nodes)\n",
    "                          *LagrangePoly(xi,j,nodes), -1, 1)[0]\n",
    "            \n",
    "    #set values smaller than eps to zero\n",
    "    eps = 1e-15\n",
    "    M[np.abs(M) < eps] = 0\n",
    "    \n",
    "    return M\n",
    "\n",
    "#compute stiffness matrix; note that the first derivative\n",
    "#of the Lagrange polynomials is numerically poorly behaved\n",
    "#near the nodes, so pass points=nodes to quad to get it to\n",
    "#treat those areas carefully\n",
    "def Kij(nodes):\n",
    "    order = len(nodes)\n",
    "    \n",
    "    K = np.zeros((order, order))\n",
    "    \n",
    "    for i in range(order):\n",
    "        for j in range(order):\n",
    "            K[i, j] = quad(lambda xi: \n",
    "                           dLagrangePoly(xi,i,nodes)\n",
    "                           *LagrangePoly(xi,j,nodes), -1, 1,\n",
    "                          points=nodes)[0]\n",
    "    \n",
    "    #set values smaller than eps to zero\n",
    "    eps = 1e-15\n",
    "    K[np.abs(K) < eps] = 0\n",
    "\n",
    "    return K\n",
    "\n",
    "#define solution approximation in element indexed k\n",
    "#from coefficient matrix a_n[k, j]\n",
    "def qt(k, xi, a_n, nodes):\n",
    "    #a_n has shape (N elements, M modes)\n",
    "    N, M = np.shape(a_n)\n",
    "        \n",
    "    q = 0\n",
    "    for j in range(M):\n",
    "        q += a_n[k, j]*LagrangePoly(xi, j, nodes)\n",
    "\n",
    "    return q\n",
    "\n",
    "#define the flux (boundary term) for element indexed k;\n",
    "#return a vector of net fluxes of length M (# of modes)\n",
    "def f(k, a_n, nodes):\n",
    "    N, M = np.shape(a_n)\n",
    "    \n",
    "    #define xiR, xiL, left and right cell boundaries\n",
    "    #in terms of logical coordinate xi\n",
    "    xiR = 1\n",
    "    xiL = -1\n",
    "    \n",
    "    flux = np.zeros(M)\n",
    "    for j in range(M):\n",
    "        #define upwind flux at right cell boundary\n",
    "        fxR     = c*qt(k, xiR, a_n, nodes)\n",
    "        #define upwind flux at left cell boundary\n",
    "        fxL     = c*qt(k-1, xiR, a_n, nodes)\n",
    "        #define net flux\n",
    "        flux[j] = fxR*LagrangePoly(xiR,j,nodes) - fxL*LagrangePoly(xiL,j,nodes)\n",
    "        \n",
    "    return flux\n",
    "\n",
    "#define RHS function\n",
    "def RHS(k, a_n, Minv, K, nodes):\n",
    "    return np.dot(Minv, c*np.dot(K, a_n[k])-f(k, a_n, nodes))\n",
    "\n",
    "#define evolve() function which returns a_np1 given a_n\n",
    "def evolve(a_n, a_np1, Minv, K, nodes):\n",
    "    N, M = np.shape(a_n)\n",
    "    \n",
    "    #for each element compute a at the next time level\n",
    "    for k in range(N):\n",
    "        a_np1[k] = a_n[k] + dt*RHS(k, a_n, Minv, K, nodes)\n",
    "\n",
    "    return a_np1\n",
    "\n",
    "#evolve system TS timesteps; takes in # of timesteps TS,\n",
    "#coefficient vector at initial time a_n, and empty\n",
    "#coefficient vector at advanced time a_np1\n",
    "def evolve_TS_steps(TS, a_n, a_np1, nodes):\n",
    "    #compute mass matrix, stiffness matrix, inverse of\n",
    "    #mass matrix; do this just once per evolution,\n",
    "    #since these are all constant matrices\n",
    "    K    = Kij(nodes)\n",
    "    M    = Mij(nodes)\n",
    "    Minv = inv(M)\n",
    "\n",
    "    #get N (# elements) and M (polynomial order)\n",
    "    N, M = np.shape(a_n)\n",
    "    \n",
    "    #save all data to an array called sol, starting with ID\n",
    "    sol = a_n\n",
    "    \n",
    "    for n in range(TS):\n",
    "        a_np1 = evolve(a_n, a_np1, Minv, K, nodes)\n",
    "        #append a_np1 to sol\n",
    "        sol = np.append(sol, a_np1)\n",
    "        #copy a_np1 into a_n for next timestep\n",
    "        a_n = a_np1\n",
    "\n",
    "    #reshape sol to be (TS, N, M), so sol[n] = a_n \n",
    "    #at time level n\n",
    "    return np.reshape(sol, (TS+1, N, M))"
   ]
  },
  {
   "cell_type": "markdown",
   "id": "b36fa13c",
   "metadata": {},
   "source": [
    "Define a function to plot the solution given the coefficient matrix a_n, the list of nodes, and an optional matplotlib style string."
   ]
  },
  {
   "cell_type": "code",
   "execution_count": 14,
   "id": "b67aeb44",
   "metadata": {},
   "outputs": [],
   "source": [
    "#plot q(x) given a_n and nodes\n",
    "def plot_sol(a_n, nodes, StyleString=''):\n",
    "    #xi in each element\n",
    "    xi = np.linspace(-1, 1, 100)\n",
    "\n",
    "    #plot approximate solution qtilde(x)\n",
    "    for k in range(N):\n",
    "        pl.plot(x(k,xi), qt(k, xi, a_n, nodes), StyleString)\n",
    "\n",
    "    #pl.show()"
   ]
  },
  {
   "cell_type": "markdown",
   "id": "cdbee4d6",
   "metadata": {},
   "source": [
    "Define initial data by specifying $q(t=0, x)$; here we just set it to be a Gaussian."
   ]
  },
  {
   "cell_type": "code",
   "execution_count": 15,
   "id": "bdd92e70",
   "metadata": {},
   "outputs": [],
   "source": [
    "#define initial data\n",
    "def q_ID(x):\n",
    "    mu = 0.5\n",
    "    sigma = 0.05\n",
    "    return np.exp(-(x-mu)**2./sigma**2.)\n",
    "\n",
    "#populate coefficient matrix a_n with values corresponding to ID\n",
    "def compute_ID_a(a_n, nodes):\n",
    "    N, M = np.shape(a_n)\n",
    "    \n",
    "    for k in range(N):\n",
    "        for j in range(M):\n",
    "            xi        = nodes[j]\n",
    "            a_n[k, j] = q_ID(x(k, xi))\n",
    "            \n",
    "    return a_n"
   ]
  },
  {
   "cell_type": "markdown",
   "id": "45ef9d8f",
   "metadata": {},
   "source": [
    "In the cell below we specify initial data and compute the corresponding coefficient matrix a_n, then evolve the system forward through time TS steps."
   ]
  },
  {
   "cell_type": "code",
   "execution_count": 16,
   "id": "f80f8912",
   "metadata": {},
   "outputs": [],
   "source": [
    "#set initial data\n",
    "a_n = compute_ID_a(a_n, LegendreRoots)\n",
    "\n",
    "#evolve the system forward TS timesteps and store\n",
    "#result in soln\n",
    "soln = evolve_TS_steps(TS, a_n, a_np1, LegendreRoots)"
   ]
  },
  {
   "cell_type": "markdown",
   "id": "3774a8f7",
   "metadata": {},
   "source": [
    "Plot the solution at $t = 0$ and $t = \\mathrm{TS} \\cdot \\Delta t$."
   ]
  },
  {
   "cell_type": "code",
   "execution_count": 17,
   "id": "2500c38b",
   "metadata": {},
   "outputs": [
    {
     "data": {
      "image/png": "[encoded data removed]",
      "text/plain": [
       "<Figure size 432x288 with 1 Axes>"
      ]
     },
     "metadata": {
      "needs_background": "light"
     },
     "output_type": "display_data"
    }
   ],
   "source": [
    "plot_sol(soln[0], LegendreRoots, 'k:')\n",
    "plot_sol(soln[TS], LegendreRoots)\n",
    "pl.show()"
   ]
  },
  {
   "cell_type": "code",
   "execution_count": null,
   "id": "c4460928",
   "metadata": {},
   "outputs": [],
   "source": []
  }
 ],
 "metadata": {
  "kernelspec": {
   "display_name": "Python 3 (ipykernel)",
   "language": "python",
   "name": "python3"
  },
  "language_info": {
   "codemirror_mode": {
    "name": "ipython",
    "version": 3
   },
   "file_extension": ".py",
   "mimetype": "text/x-python",
   "name": "python",
   "nbconvert_exporter": "python",
   "pygments_lexer": "ipython3",
   "version": "3.10.12"
  }
 },
 "nbformat": 4,
 "nbformat_minor": 5
}
