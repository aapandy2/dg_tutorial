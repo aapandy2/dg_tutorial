{
 "cells": [
  {
   "cell_type": "markdown",
   "id": "b1decb6f",
   "metadata": {},
   "source": [
    "# DG tutorial"
   ]
  },
  {
   "cell_type": "code",
   "execution_count": 2,
   "id": "b0d5de57",
   "metadata": {},
   "outputs": [],
   "source": [
    "%matplotlib inline\n",
    "import numpy as np\n",
    "import matplotlib.pyplot as pl"
   ]
  },
  {
   "cell_type": "markdown",
   "id": "44add3ca",
   "metadata": {},
   "source": [
    "We will consider solving a conservation law without sources,\n",
    "$$\n",
    "\\frac{\\partial q}{\\partial t} + \\frac{\\partial f(q)}{\\partial x} = 0.\n",
    "$$\n",
    "We multiply through by a smooth, compactly supported test function $\\phi(x)$ and integrate over an element to get\n",
    "$$\n",
    "\\int_k \\frac{\\partial q}{\\partial t} \\phi \\, dx + \\big[ f(q) \\phi \\big]^{x_R}_{x_L} - \\int_k f(q) \\frac{\\partial \\phi}{\\partial x} \\, dx = 0.\n",
    "$$\n",
    "\n",
    "We now define our approximate solution to be in some vector space $V$ equipped with a complete set of orthogonal basis functions $\\psi_i$:\n",
    "$$\n",
    "\\tilde{q}(t, x) = \\sum_i^M a_i(t) \\, \\psi_i(x).\n",
    "$$\n",
    "If our vector space is complete, in the limit $M \\to \\infty$ we recover the exact solution $\\tilde{q}(x) \\to q(x)$.\n",
    "\n",
    "Note that the weak solution of the PDE is one that satisfies the equation above _for all smooth, compactly supported $\\phi$_.  In order to test all $\\phi$, we'll take $\\phi_j$ to be the orthogonal basis functions of the vector space $V$ we considered earlier.  Since it'd be impossible to test an infinite number of basis functions, we'll instead only consider the first $N$ basis functions."
   ]
  },
  {
   "cell_type": "markdown",
   "id": "24a336a4",
   "metadata": {},
   "source": [
    "The discretization is then\n",
    "$$\n",
    "\\int_k \\frac{\\partial \\tilde{q}}{\\partial t} \\phi_j \\, dx + \\big[ f(\\tilde{q}) \\phi_j \\big]^{x_R}_{x_L} - \\int_k f(\\tilde{q}) \\frac{\\partial \\phi_j}{\\partial x} \\, dx = 0, ~~~ \\forall~j \\leq N.\n",
    "$$\n",
    "We will write the first term (called the _mass matrix_) as (cf. T 2.12)\n",
    "$$\n",
    "\\int_k \\frac{\\partial \\tilde{q}}{\\partial t} \\phi_j \\, dx = \\sum_{i=0}^{M} \\frac{d a_i(t)}{d t} \\int_k \\psi_i(x) \\phi_j(x) \\, dx \\equiv \\Big[ \\mathbf{M} \\cdot \\frac{d \\mathbf{a}}{d t} \\Big]_j\n",
    "$$\n",
    "where we've inserted our approximation for $\\tilde{q}$.  Notice that since $\\psi_i, \\phi_j$ are both orthogonal basis functions from the same family, we can compute these integrals analytically.\n",
    "\n",
    "The other term with an integral is called the _stiffness matrix_, which is\n",
    "$$\n",
    "\\int_k f(\\tilde{q}) \\frac{\\partial \\phi_j}{\\partial x} \\, dx = \\int_k c \\tilde{q} \\frac{\\partial \\phi_j}{\\partial x} \\, dx = c \\sum_{i=0}^M a_i(t) \\int_k \\psi_i \\partial_x \\phi_j \\, dx \\equiv c \\Big[\\mathbf{a} \\cdot \\mathbf{K} \\Big]_j\n",
    "$$\n",
    "where once again we can compute the integrals analytically.\n",
    "\n",
    "Finally we need to compute the flux term, which is simple thanks to our simple upwind flux function:\n",
    "$$\n",
    "\\big[ f(\\tilde{q}) \\phi \\big]^{x_R}_{x_L} = c \\tilde{q}_k (x_R) \\phi_j(x_R) - c \\tilde{q}_{k-1}(x_R) \\phi_j(x_L) \\equiv \\hat{\\mathbf{f}}.\n",
    "$$\n",
    "\n",
    "Hence our discretized equation can be written\n",
    "$$\n",
    "0 = \\mathbf{M} \\cdot \\partial_t \\mathbf{a} + \\hat{\\mathbf{f}} - c \\mathbf{K} \\cdot \\mathbf{a}\n",
    "$$\n",
    "which can be solved for $\\partial_t \\mathbf{a}$ to yield\n",
    "$$\n",
    "\\partial_t \\mathbf{a} = \\mathbf{M}^{-1} \\cdot \\big[ c \\mathbf{K} \\cdot \\mathbf{a} - \\hat{\\mathbf{f}} \\big].\n",
    "$$"
   ]
  },
  {
   "cell_type": "markdown",
   "id": "73807418",
   "metadata": {},
   "source": [
    "**TODO: work out case where the flux isn't linear**"
   ]
  },
  {
   "cell_type": "markdown",
   "id": "8456be1d",
   "metadata": {},
   "source": [
    "We will take $\\psi_i = L_i$, where $L_i$ are the Lagrange polynomials and we choose our nodal points to be the roots of the Legendre polynomials.\n",
    "\n"
   ]
  },
  {
   "cell_type": "markdown",
   "id": "e1a76005",
   "metadata": {},
   "source": [
    "Below we will do the simplified case, where\n",
    "$$\n",
    "\\partial_t \\mathbf{a} = \\mathbf{M}^{-1} \\cdot (\\mathbf{f} - c \\mathbf{K} \\cdot \\mathbf{a}),\n",
    "$$\n",
    "where\n",
    "$$\n",
    "M^{-1} = \n",
    "\\begin{pmatrix}\n",
    "4 & -2 \\\\\n",
    "-2 & 4\n",
    "\\end{pmatrix},\n",
    "$$\n",
    "and\n",
    "$$\n",
    "\\mathbf{f} = c\n",
    "\\begin{pmatrix}\n",
    "-q_{k-1}(x_R) \\\\\n",
    "q_k (x_R)\n",
    "\\end{pmatrix},\n",
    "$$\n",
    "and\n",
    "$$\n",
    "K = \\frac{1}{2}\n",
    "\\begin{pmatrix}\n",
    "-1 & 1 \\\\\n",
    "-1 & 1\n",
    "\\end{pmatrix}.\n",
    "$$\n",
    "\n",
    "**TODO: work out explicit forward-Euler update**"
   ]
  },
  {
   "cell_type": "code",
   "execution_count": 50,
   "id": "9d41e546",
   "metadata": {},
   "outputs": [
    {
     "data": {
      "image/png": "[encoded data removed]",
      "text/plain": [
       "<Figure size 432x288 with 1 Axes>"
      ]
     },
     "metadata": {
      "needs_background": "light"
     },
     "output_type": "display_data"
    }
   ],
   "source": [
    "#define dt\n",
    "dt = 0.0001\n",
    "\n",
    "#define number of elements\n",
    "numElem = 15\n",
    "\n",
    "#define initial data\n",
    "xMin = 0.\n",
    "xMax = 1.\n",
    "x    = np.linspace(xMax, xMin, numElem)\n",
    "\n",
    "#define element boundaries, which lie at i*dxElem for i in 1, numElem\n",
    "dxElem = (xMax-xMin)/numElem\n",
    "\n",
    "sigma = 0.05\n",
    "mu    = 0.5\n",
    "q     = np.exp(-(x-mu)**2./sigma**2.)\n",
    "qp    = -2./sigma**2.*(x-mu)*np.exp(-(x-mu)**2./sigma**2.)\n",
    "#project initial data onto basis: \n",
    "a0 = q - qp*x\n",
    "a1 = q + qp*(1-x)\n",
    "\n",
    "\n",
    "\n",
    "pl.plot(x, q)\n",
    "for n in range(1, numElem):\n",
    "    pl.axvline(dxElem*n, c='r', ls=':')\n",
    "\n",
    "\n",
    "psi0 = 1-x\n",
    "psi1 = x\n",
    "pl.plot(x, a0*psi0+a1*psi1, 'bo')\n",
    "pl.show()"
   ]
  },
  {
   "cell_type": "code",
   "execution_count": 52,
   "id": "4236204f",
   "metadata": {},
   "outputs": [],
   "source": [
    "#define c = 1\n",
    "c = 1\n",
    "\n",
    "#define matrices\n",
    "Minv = [[4,-2],[-2,4]]\n",
    "K    = [[-1/2, 1/2], [-1/2, 1/2]]\n",
    "\n",
    "#set a0n, a1n = a0, a1\n",
    "a0n = a0\n",
    "a1n = a1\n",
    "\n"
   ]
  },
  {
   "cell_type": "code",
   "execution_count": null,
   "id": "ec7c16cf",
   "metadata": {},
   "outputs": [],
   "source": []
  }
 ],
 "metadata": {
  "kernelspec": {
   "display_name": "Python 3 (ipykernel)",
   "language": "python",
   "name": "python3"
  },
  "language_info": {
   "codemirror_mode": {
    "name": "ipython",
    "version": 3
   },
   "file_extension": ".py",
   "mimetype": "text/x-python",
   "name": "python",
   "nbconvert_exporter": "python",
   "pygments_lexer": "ipython3",
   "version": "3.10.12"
  }
 },
 "nbformat": 4,
 "nbformat_minor": 5
}
