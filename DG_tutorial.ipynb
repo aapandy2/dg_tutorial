{
 "cells": [
  {
   "cell_type": "markdown",
   "id": "b1decb6f",
   "metadata": {},
   "source": [
    "# DG tutorial"
   ]
  },
  {
   "cell_type": "code",
   "execution_count": 68,
   "id": "ec7c16cf",
   "metadata": {},
   "outputs": [],
   "source": [
    "#define imports\n",
    "%matplotlib inline\n",
    "import numpy as np\n",
    "import matplotlib.pyplot as pl\n",
    "from scipy.integrate import quad\n",
    "from numpy.linalg import inv"
   ]
  },
  {
   "cell_type": "markdown",
   "id": "75398a57-59a7-4b62-8e6e-403062849010",
   "metadata": {},
   "source": [
    "The equation we wish to solve can be written\n",
    "$$\n",
    "\\partial_t \\mathbf{a} = \\mathbf{M}^{-1} \\cdot (c \\mathbf{K} \\cdot \\mathbf{a} - \\mathbf{f}).\n",
    "$$\n",
    "In the cell below we define each of the quantities on the right-hand side."
   ]
  },
  {
   "cell_type": "code",
   "execution_count": 96,
   "id": "ee599630-584e-4f41-92a9-efd56a37c5f0",
   "metadata": {},
   "outputs": [],
   "source": [
    "#define CFL\n",
    "CFL = 0.5\n",
    "\n",
    "#define number of timesteps, TS\n",
    "TS = 3\n",
    "\n",
    "#set up grid\n",
    "xMax = 1.\n",
    "xMin = 0.\n",
    "\n",
    "#define number of elements\n",
    "N = 15\n",
    "\n",
    "#define size of a cell, dx\n",
    "dx = (xMax-xMin)/N\n",
    "dt = CFL * dx\n",
    "\n",
    "#index cells from k = 0 to N; cell boundary is at (k*dx, [k+1]*dx); define array of boundaries cbound\n",
    "cbound = [k*dx for k in range(N+1)]\n",
    "\n",
    "#define wave speed c\n",
    "c = 1"
   ]
  },
  {
   "cell_type": "code",
   "execution_count": 97,
   "id": "5153de77-bb74-4d9b-9247-9de9779a08da",
   "metadata": {},
   "outputs": [],
   "source": [
    "#define basis functions\n",
    "def psi0(xi):\n",
    "    return 1-xi\n",
    "\n",
    "def psi1(xi):\n",
    "    return xi\n",
    "\n",
    "#define analytic derivatives of basis functions\n",
    "def psi0P(xi):\n",
    "    return -1\n",
    "\n",
    "def psi1P(xi):\n",
    "    return 1\n",
    "\n",
    "#define Jacobian\n",
    "def J(xi):\n",
    "    return dx\n",
    "\n",
    "#define mass matrix; since the mass matrix is just a constant, this function\n",
    "#only needs to be called once and the result should be stored for the evolution\n",
    "def Mij():\n",
    "    M00 = quad(lambda xi: J(xi)*psi0(xi)*psi0(xi), 0, 1)[0]\n",
    "    M01 = quad(lambda xi: J(xi)*psi0(xi)*psi1(xi), 0, 1)[0]\n",
    "    M10 = M01\n",
    "    M11 = quad(lambda xi: J(xi)*psi1(xi)*psi1(xi), 0, 1)[0]\n",
    "    return [[M00, M01],[M10, M11]]\n",
    "\n",
    "#define stiffness matrix; again, it is constant, so we only need to evaluate this\n",
    "#function once and the result should be stored for the evolution\n",
    "def Kij():\n",
    "    K00 = quad(lambda xi: psi0(xi)*psi0P(xi), 0, 1)[0]\n",
    "    K01 = quad(lambda xi: psi0(xi)*psi1P(xi), 0, 1)[0]\n",
    "    K10 = quad(lambda xi: psi1(xi)*psi0P(xi), 0, 1)[0]\n",
    "    K11 = quad(lambda xi: psi1(xi)*psi1P(xi), 0, 1)[0]\n",
    "    return [[K00, K01],[K10, K11]]\n",
    "\n",
    "#define q tilde, the approximate solution; this is a function of the cell index\n",
    "#k, xi, and the vector of weights a_n; a_n[k] = (a_0, a_1) for element k\n",
    "def qt(k, xi, a):\n",
    "    return ( a[k, 0]*psi0(xi) + a[k, 1]*psi1(xi))\n",
    "\n",
    "#define flux (boundary) term; this is a function of position, so take in a cell\n",
    "#index k as an argument and the solution vector a_n\n",
    "def f(k, a_n):\n",
    "    f0 = -c*qt(k-1, 1, a_n)\n",
    "    f1 = c*qt(k, 1, a_n)\n",
    "    return [f0, f1]\n",
    "\n",
    "#define RHS function\n",
    "def RHS(k, a_n):\n",
    "    K    = Kij()\n",
    "    M    = Mij()\n",
    "    Minv = inv(M)\n",
    "\n",
    "    return np.dot(Minv, c*np.dot(K, a_n[k])-f(k,a_n))\n",
    "\n",
    "#define evolve() function which returns a_np1 given a_n\n",
    "def evolve(a_n, a_np1):\n",
    "    #for each element compute a at the next time level\n",
    "    for k in range(N):\n",
    "        a_np1[k] = a_n[k] + dt*RHS(k, a_n)\n",
    "\n",
    "    return a_np1"
   ]
  },
  {
   "cell_type": "code",
   "execution_count": 101,
   "id": "59354886-0adb-4d29-b1f3-9cbbbf1cfbc0",
   "metadata": {},
   "outputs": [],
   "source": [
    "#define initial data.  Notice that for cell k, a_{0,k} = q(x_L)\n",
    "#and a_{1,k} = q(x_R)\n",
    "def q_ID(x):\n",
    "    mu = 0.5\n",
    "    sigma = 0.05\n",
    "    return np.exp(-(x-mu)**2./sigma**2.)\n",
    "\n",
    "def compute_ID_a(a_n):\n",
    "    for k in range(N):\n",
    "        a_n[k,0] = q_ID(cbound[k])\n",
    "        a_n[k,1] = q_ID(cbound[k+1])\n",
    "\n",
    "    return a_n"
   ]
  },
  {
   "cell_type": "code",
   "execution_count": 99,
   "id": "36242a45-9469-4582-83ca-d075b05e274e",
   "metadata": {},
   "outputs": [],
   "source": [
    "#define a_n = solution vector at time level n; should have shape (N, 2), where\n",
    "#N is the number of elements (i.e. we have a_0, a_1 for each element)\n",
    "a_n = np.ones((N,2))\n",
    "\n",
    "#define a_np1 = solution vector at time level n+1; same shape as a_n\n",
    "a_np1 = np.ones((N,2))"
   ]
  },
  {
   "cell_type": "code",
   "execution_count": null,
   "id": "4190bb1c-b522-4f2d-9f7b-a63d8ed35932",
   "metadata": {},
   "outputs": [],
   "source": []
  }
 ],
 "metadata": {
  "kernelspec": {
   "display_name": "Python 3 (ipykernel)",
   "language": "python",
   "name": "python3"
  },
  "language_info": {
   "codemirror_mode": {
    "name": "ipython",
    "version": 3
   },
   "file_extension": ".py",
   "mimetype": "text/x-python",
   "name": "python",
   "nbconvert_exporter": "python",
   "pygments_lexer": "ipython3",
   "version": "3.10.12"
  }
 },
 "nbformat": 4,
 "nbformat_minor": 5
}
