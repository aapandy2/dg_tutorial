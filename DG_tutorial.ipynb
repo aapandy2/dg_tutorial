{
 "cells": [
  {
   "cell_type": "markdown",
   "id": "b1decb6f",
   "metadata": {},
   "source": [
    "# DG Tutorial Part 1: the simplest possible case"
   ]
  },
  {
   "cell_type": "markdown",
   "id": "306210ab",
   "metadata": {},
   "source": [
    "## Conservation laws\n",
    "\n",
    "This notebook is meant to serve as a simple introduction to the **discontinuous Galerkin (DG) method** for solving hyperbolic conservation laws of the form\n",
    "\n",
    "$$\n",
    "\\frac{\\partial}{\\partial t} \\mathbf{q}(\\mathbf{u}) + \\frac{\\partial}{\\partial x^i} \\mathbf{f}^{i}(\\mathbf{u}) = \\mathbf{S}(\\mathbf{u}).\n",
    "$$\n",
    "\n",
    "In this equation, the quantities $\\mathbf{q}$ are _conserved variables_, $\\mathbf{f}$ are _fluxes_, $\\mathbf{S}$ are _sources_, and all of these terms are functions of a set of _primitive variables_ $\\mathbf{u}$.  Bold font is used to denote the fact that all of the aforementioned terms can be vectors, allowing us to put systems of conservation laws into the form above.\n",
    "\n",
    "## 1D scalar advection equation\n",
    "\n",
    "In this notebook we will consider the simplest possible case of a conservation law, namely the 1D scalar advection equation\n",
    "\n",
    "$$\n",
    "\\begin{equation} \\tag{1}\n",
    "\\begin{aligned} \n",
    "0 &= \\frac{\\partial}{\\partial t} q + \\frac{\\partial}{\\partial x} f(q) \\\\\n",
    "f(q) &= c q \\\\\n",
    "\\end{aligned}\n",
    "\\end{equation}\n",
    "$$\n",
    "\n",
    "which has a single scalar conserved variable $q$, the flux is $\\mathbf{f} = c q$ (where $c$ is a constant), there is no source term, and the conserved variable is also our primitive variable.\n",
    "\n",
    "To avoid having to specify boundary conditions, we will consider a periodic domain with\n",
    "\n",
    "$$\n",
    "x \\in [0, 1].\n",
    "$$\n",
    "\n",
    "## DG discretization\n",
    "\n",
    "### Weak formulation of the PDE\n",
    "\n",
    "We will begin by dividing our domain $x \\in [0, 1]$ into $K$ _elements_ which we will index with $k$.  In principle, these elements can all have different sizes, but we will simplify matters by asserting they all have the same size\n",
    "\n",
    "$$\n",
    "\\Delta x \\equiv \\frac{x_{max} - x_{min}}{K} = \\frac{1}{K}.\n",
    "$$\n",
    "\n",
    "Thus each element has extent \n",
    "\n",
    "$$\n",
    "\\Omega_k \\equiv \\big[ x_L, ~x_R \\big] = \\big[ k \\Delta x, ~(k+1) \\Delta x \\big].\n",
    "$$\n",
    "\n",
    "The DG discretization comes from the _weak formulation_ of the PDE, which is obtained by multiplying the PDE (1) by a smooth, compactly supported test function $\\phi(x)$ and integrating over each of the spatial elements:\n",
    "\n",
    "$$\n",
    "\\begin{equation} \\tag{2}\n",
    "\\begin{aligned}\n",
    "0 &= \\int_{\\Omega_k} \\phi \\, \\frac{\\partial q}{\\partial t} \\, dx + \\int_{\\Omega_k} \\phi \\, \\frac{\\partial f(q)}{\\partial x} \\, dx \\\\\n",
    "&= \\int_{x_L}^{x_R} \\phi \\, \\frac{\\partial q}{\\partial t} \\, dx + \\big[ f(q) \\, \\phi \\big]^{x_R}_{x_L} - \\int_{x_L}^{x_R} f(q) \\, \\frac{\\partial \\phi}{\\partial x} \\, dx \\\\\n",
    "\\end{aligned}\n",
    "\\end{equation}\n",
    "$$\n",
    "\n",
    "where we have integrated the spatial derivative term by parts.\n",
    "\n",
    "The _weak solution_ to the PDE (1) is defined to be a function $q$ which satisfies (2) _for all smooth, compactly supported test functions $\\phi$_.\n",
    "\n",
    "### Deriving the discrete approximation\n",
    "\n",
    "We will now consider a vector space $V$ spanned by a complete set of basis functions $\\psi_i$.  The fact that $V$ is complete implies that we can write our PDE solution $q$ as\n",
    "\n",
    "$$\n",
    "q(t,x) = \\sum_{i=0}^{\\infty} a_i(t) \\, \\psi_i \\big[ \\xi(x) \\big],\n",
    "$$\n",
    "\n",
    "so our solution is expressed as a set of time-dependent coefficients $a_i(t)$ times the basis functions $\\psi_i$, which encode the spatial dependence.  Notice that we have allowed $\\psi_i$ to depend on $x$ in a nontrivial way: they depend on $\\xi(x)$, where $\\xi$ is an arbitrary (invertible) function.\n",
    "\n",
    "We now produce a discrete approximation to the PDE solution via\n",
    "\n",
    "$$\n",
    "\\tilde{q}(t, x) = \\sum_{i=0}^{M} a_i(t) \\, \\psi_i \\big[ \\xi(x) \\big],\n",
    "$$\n",
    "\n",
    "so instead of summing over all basis functions in the space $V$, we sum the first $M+1$ of them (note that we start the sum at $i=0$).\n",
    "\n",
    "Furthermore, instead of checking all admissible test functions $\\phi$, we will only test the ones that can be written in terms of those $M+1$ basis functions; a simple choice, then, is to take\n",
    "\n",
    "$$\n",
    "\\phi(x) \\equiv \\psi_j(x)\n",
    "$$\n",
    "\n",
    "where $j$ runs from $0$ to $M$.\n",
    "\n",
    "Inserting the approximate solution $\\tilde{q}$ in for $q$ and the basis functions $\\psi_j$ in for $\\phi$ in (2) yields\n",
    "\n",
    "$$\n",
    "\\begin{equation}\n",
    "\\begin{aligned}\n",
    "0 &= \\int_{x_L}^{x_R} \\psi_j \\, \\frac{\\partial \\tilde{q}}{\\partial t} \\, dx + \\big[ f(\\tilde{q}) \\, \\psi_j \\big]^{x_R}_{x_L} - \\int_{x_L}^{x_R} f(\\tilde{q}) \\, \\frac{\\partial \\psi_j}{\\partial x} \\, dx \\\\\n",
    "&= \\sum_{i=0}^{M} \\frac{\\partial a_i}{\\partial t} \\int_{x_L}^{x_R} \\psi_i \\, \\psi_j \\, dx + \\big[ f(\\tilde{q}) \\, \\psi_j \\big]^{x_R}_{x_L} - c \\sum_{i=0}^{M} a_i \\int_{x_L}^{x_R} \\psi_i \\, \\frac{\\partial \\psi_j}{\\partial x} \\, dx \\\\\n",
    "&= \\sum_{i=0}^{M} \\frac{\\partial a_i}{\\partial t} M_{ij} + F_j - c \\sum_{i=0}^{M} a_i K_{ij} \\\\\n",
    "&= \\frac{\\partial \\mathbf{a}_i}{\\partial t} \\cdot \\mathbf{M} + \\mathbf{F} - c \\, \\mathbf{a}_i \\cdot \\mathbf{K}, \\\\\n",
    "\\end{aligned}\n",
    "\\end{equation}\n",
    "$$\n",
    "\n",
    "which we can solve for the time derivative of the coefficient vector $\\mathbf{a}$:\n",
    "\n",
    "$$\n",
    "\\begin{equation} \\tag{3}\n",
    "\\frac{\\partial \\mathbf{a}_i}{\\partial t} = \\mathbf{M}^{-1} \\cdot \\Big( \\mathbf{F} - c \\, \\mathbf{a}_i \\cdot \\mathbf{K} \\Big),\n",
    "\\end{equation}\n",
    "$$\n",
    "\n",
    "where we have defined the _mass matrix_\n",
    "\n",
    "$$\n",
    "\\begin{aligned}\n",
    "M_{ij} &\\equiv \\int_{x_L}^{x_R} \\psi_i\\big[ x(\\xi) \\big] \\, \\psi_j \\big[ x(\\xi) \\big] \\, dx \\\\\n",
    "&= \\int_{\\xi(x_L)}^{\\xi(x_R)} \\psi_i(\\xi) \\, \\psi_j(\\xi) \\, J \\, d\\xi \\\\\n",
    "\\end{aligned}\n",
    "$$\n",
    "where $J \\equiv \\frac{\\partial x}{\\partial \\xi}$ is the jacobian of the coordinate transformation from $x$ to $\\xi$.  Similarly, the _stiffness matrix_ is\n",
    "$$\n",
    "\\begin{aligned}\n",
    "K_{ij} &\\equiv \\int_{x_L}^{x_R} \\psi_i\\big[ x(\\xi) \\big] \\, \\frac{\\partial \\psi_j\\big[ x(\\xi) \\big]}{\\partial x} \\, dx \\\\\n",
    "&= \\int_{\\xi(x_L)}^{\\xi(x_R)} \\psi_i(\\xi) \\, \\frac{\\partial \\psi_j(\\xi)}{\\partial \\xi} \\frac{\\partial \\xi}{\\partial x} \\, \\frac{\\partial x}{\\partial \\xi} \\, dx \\\\\n",
    "&= \\int_{\\xi(x_L)}^{\\xi(x_R)} \\psi_i(\\xi) \\, \\frac{\\partial \\psi_j(\\xi)}{\\partial \\xi} \\, dx \\\\\n",
    "\\end{aligned}\n",
    "$$\n",
    "where the factor of the jacobian has cancelled with the factor of the inverse jacobian brought in by the spatial derivative term. Finally the flux term is\n",
    "\n",
    "$$\n",
    "\\begin{aligned}\n",
    "F_{j}  &\\equiv \\big[ f(\\tilde{q}) \\, \\psi_j \\big]^{x_R}_{x_L} \\\\\n",
    "&\\to \\big[ \\hat{f} \\, \\psi_j \\big]^{x_R}_{x_L} \\\\\n",
    "&= \\hat{f}(x_R) \\psi_j(x_R) - \\hat{f}(x_L) \\psi_j(x_L) \\\\\n",
    "\\end{aligned}\n",
    "$$\n",
    "\n",
    "where $\\hat{f}$ is a numerical flux function, which is defined so that our numerical scheme is able to capture discontinuous (shock) solutions.  \n",
    "\n",
    "Here we will use the simple _upwind flux function_, which depends on the flow speed $c$ defined above.  We will restrict to $c > 0$, in which case the flux function in a cell with index $k$ is:\n",
    "\n",
    "$$\n",
    "\\hat{f}_{k}(x_L) = c \\tilde{q}_{k-1}(x_R), ~~~ \\hat{f}_{k}(x_R) = c \\tilde{q}_{k}(x_R).\n",
    "$$\n",
    "\n",
    "Notice that of the terms in (3), $\\mathbf{F}$ is the only one that couples adjacent elements; all of the other terms ($\\mathbf{M}, \\mathbf{K}$) are computed strictly using quantities _within_ a given cell."
   ]
  },
  {
   "cell_type": "markdown",
   "id": "6e592c26",
   "metadata": {},
   "source": [
    "## Building the solver\n",
    "\n",
    "Now that we've derived the semidiscrete solution scheme, (3), we will choose a set of basis functions $\\phi_j$ and we will build a simple DG solver for the 1D scalar advection equation.\n",
    "\n",
    "Below we begin by importing a few useful libraries and functions."
   ]
  },
  {
   "cell_type": "code",
   "execution_count": 20,
   "id": "ec7c16cf",
   "metadata": {},
   "outputs": [],
   "source": [
    "#define imports\n",
    "%matplotlib inline\n",
    "import numpy as np\n",
    "import matplotlib.pyplot as pl\n",
    "from scipy.integrate import quad\n",
    "from numpy.linalg import inv"
   ]
  },
  {
   "cell_type": "markdown",
   "id": "fdf60400",
   "metadata": {},
   "source": [
    "### Define grid parameters\n",
    "\n",
    "Next, we'll define the numerical grid by specifying the CFL number, the total number of timesteps we'll evolve the system through, the minimum and maximum $x$ values, the number of elements $N$, the cell boundaries, and the speed in the advection equation, $c$."
   ]
  },
  {
   "cell_type": "code",
   "execution_count": 43,
   "id": "41c8e762",
   "metadata": {},
   "outputs": [],
   "source": [
    "#define CFL\n",
    "CFL = 0.05\n",
    "\n",
    "#define number of timesteps, TS\n",
    "TS = 50\n",
    "\n",
    "#set up grid\n",
    "xMax = 1.\n",
    "xMin = 0.\n",
    "\n",
    "#define number of elements\n",
    "N = 25\n",
    "\n",
    "#define size of a cell, dx\n",
    "dx = (xMax-xMin)/N\n",
    "dt = CFL * dx\n",
    "\n",
    "#index cells from k = 0 to N; cell boundary is at (k*dx, [k+1]*dx); define array of boundaries cbound\n",
    "cbound = [k*dx for k in range(N+1)]\n",
    "\n",
    "#define wave speed c\n",
    "c = 1."
   ]
  },
  {
   "cell_type": "markdown",
   "id": "75398a57-59a7-4b62-8e6e-403062849010",
   "metadata": {},
   "source": [
    "### Fixing the basis functions\n",
    "\n",
    "Now we will fix the basis functions.\n",
    "\n",
    "For the sake of simplicity, we will consider the basis of monomials ($\\psi_j \\sim \\xi^j$) and we will only consider the first two basis functions, so $M = 1$.  We will write these basis functions as\n",
    "$$\n",
    "\\psi_0(\\xi) = 1 - \\xi, ~~~ \\psi_1(\\xi) = \\xi,\n",
    "$$\n",
    "where $\\xi \\in [0,1]$.\n",
    "\n",
    "The map from the coordinate $\\xi$ to $x$ is given by\n",
    "$$\n",
    "x(\\xi) = x_L + \\xi(x_R - x_L) = k \\, \\Delta x + \\xi \\, \\Delta x,\n",
    "$$\n",
    "which implies the jacobian is\n",
    "$$\n",
    "J \\equiv \\frac{\\partial x}{\\partial \\xi} = \\Delta x.\n",
    "$$"
   ]
  },
  {
   "cell_type": "code",
   "execution_count": 44,
   "id": "51336776",
   "metadata": {},
   "outputs": [],
   "source": [
    "#define basis functions\n",
    "def psi0(xi):\n",
    "    return 1-xi\n",
    "\n",
    "def psi1(xi):\n",
    "    return xi\n",
    "\n",
    "#define analytic derivatives of basis functions\n",
    "def psi0P(xi):\n",
    "    return -1\n",
    "\n",
    "def psi1P(xi):\n",
    "    return 1\n",
    "\n",
    "#define Jacobian\n",
    "def J():\n",
    "    return dx\n",
    "\n",
    "#define x(k, xi), where k is the index of the cell\n",
    "def x(k, xi):\n",
    "    return k*dx + xi*dx"
   ]
  },
  {
   "cell_type": "markdown",
   "id": "36a41f96",
   "metadata": {},
   "source": [
    "## Computing the terms in (3)\n",
    "\n",
    "Given the grid, coordinate map $x(\\xi)$, the jacobian, the basis functions $\\phi_j$, and their derivatives, we can compute the mass and stiffness matrices.  \n",
    "\n",
    "Starting with the mass matrix, we find:\n",
    "\n",
    "$$\n",
    "\\begin{aligned}\n",
    "M_{ij} &= \\int_{\\xi(x_L)}^{\\xi(x_R)} \\psi_i(\\xi) \\, \\psi_j(\\xi) \\, J \\, d\\xi \\\\\n",
    "&= \\Delta x \\int_0^1 \\psi_i(\\xi) \\psi_j(\\xi) \\, d\\xi \\\\\n",
    "\\implies \\mathbf{M} &= \\frac{\\Delta x}{6}\n",
    "\\begin{pmatrix}\n",
    "2 & 1 \\\\\n",
    "1 & 2\n",
    "\\end{pmatrix}.\n",
    "\\end{aligned}\n",
    "$$\n",
    "\n",
    "Doing the same for the stiffness matrix gives us\n",
    "$$\n",
    "\\begin{aligned}\n",
    "K_{ij} &= \\int_{\\xi(x_L)}^{\\xi(x_R)} \\psi_i(\\xi) \\, \\frac{\\partial \\psi_j(\\xi)}{\\partial \\xi} \\, dx \\\\\n",
    "&= \\int_0^1 \\psi_i(\\xi) \\, \\frac{\\partial \\psi_j(\\xi)}{\\partial \\xi} \\, d\\xi \\\\\n",
    "\\implies \\mathbf{K} &= \\frac{1}{2}\n",
    "\\begin{pmatrix}\n",
    "-1 & 1 \\\\\n",
    "-1 & 1\n",
    "\\end{pmatrix}\n",
    "\\end{aligned}.\n",
    "$$\n",
    "\n",
    "Finally the flux term is\n",
    "\n",
    "$$\n",
    "\\begin{aligned}\n",
    "F_j &= \\hat{f}(x_R) \\psi_j(x_R) - \\hat{f}(x_L) \\psi_j(x_L) \\\\\n",
    "&= c \\tilde{q}_k(x_R) \\psi_j(x_R) - c \\tilde{q}_{k-1}(x_R) \\psi_j(x_L) \\\\\n",
    "&= c \\tilde{q}_k(x_R) \\delta_{j,1} - c \\tilde{q}_{k-1}(x_R) \\delta_{j,0} \\\\\n",
    "\\implies \\mathbf{F} &= \n",
    "\\begin{pmatrix}\n",
    "-c \\tilde{q}_{k-1}(x_R) \\\\\n",
    "c \\tilde{q}_{k}(x_R)\n",
    "\\end{pmatrix},\n",
    "\\end{aligned}\n",
    "$$\n",
    "where we have used the fact that $\\psi_0(x_R) = \\psi_1(x_L) = 0$ and $\\psi_0(x_L) = \\psi_1(x_R) = 1$ to arrive at the third line.\n",
    "\n",
    "Below we define python functions to compute the mass/stiffness matrices and the flux term."
   ]
  },
  {
   "cell_type": "code",
   "execution_count": 45,
   "id": "ee599630-584e-4f41-92a9-efd56a37c5f0",
   "metadata": {},
   "outputs": [],
   "source": [
    "#define mass matrix; since the mass matrix is just a constant, this function\n",
    "#only needs to be called once and the result should be stored for the evolution\n",
    "def Mij():\n",
    "    M00 = quad(lambda xi: J()*psi0(xi)*psi0(xi), 0, 1)[0]\n",
    "    M01 = quad(lambda xi: J()*psi0(xi)*psi1(xi), 0, 1)[0]\n",
    "    M10 = M01\n",
    "    M11 = quad(lambda xi: J()*psi1(xi)*psi1(xi), 0, 1)[0]\n",
    "    return [[M00, M01],[M10, M11]]\n",
    "\n",
    "#define stiffness matrix; again, it is constant, so we only need to evaluate this\n",
    "#function once and the result should be stored for the evolution\n",
    "def Kij():\n",
    "    K00 = quad(lambda xi: psi0P(xi)*psi0(xi), 0, 1)[0]\n",
    "    K01 = quad(lambda xi: psi0P(xi)*psi1(xi), 0, 1)[0]\n",
    "    K10 = quad(lambda xi: psi1P(xi)*psi0(xi), 0, 1)[0]\n",
    "    K11 = quad(lambda xi: psi1P(xi)*psi1(xi), 0, 1)[0]\n",
    "    return [[K00, K01],[K10, K11]]\n",
    "\n",
    "#define q tilde, the approximate solution; this is a function of the cell index\n",
    "#k, xi, and the vector of weights a_n; a_n[k] = (a_0, a_1) for element k\n",
    "def qt(k, xi, a):\n",
    "    return ( a[k, 0]*psi0(xi) + a[k, 1]*psi1(xi))\n",
    "\n",
    "#define flux (boundary) term; this is a function of position, so take in a cell\n",
    "#index k as an argument and the solution vector a_n\n",
    "def f(k, a_n):\n",
    "    f0 = -c*qt(k-1, 1, a_n)\n",
    "    f1 = c*qt(k, 1, a_n)\n",
    "    return [f0, f1]"
   ]
  },
  {
   "cell_type": "markdown",
   "id": "0473e56e",
   "metadata": {},
   "source": [
    "Let's check that the matrices give us what we expect, since we computed them analytically above and they're just constant matrices."
   ]
  },
  {
   "cell_type": "code",
   "execution_count": 46,
   "id": "13449a79",
   "metadata": {},
   "outputs": [
    {
     "name": "stdout",
     "output_type": "stream",
     "text": [
      "expected mass matrix:\n",
      "[[0.01333333 0.00666667]\n",
      " [0.00666667 0.01333333]]\n",
      "\n",
      "computed mass matrix:\n",
      "[[0.01333333 0.00666667]\n",
      " [0.00666667 0.01333333]]\n",
      "\n",
      "\n",
      "expected stiffness matrix:\n",
      "[[-0.5  0.5]\n",
      " [-0.5  0.5]]\n",
      "\n",
      "computed stiffness matrix:\n",
      "[[-0.5 -0.5]\n",
      " [ 0.5  0.5]]\n"
     ]
    }
   ],
   "source": [
    "expectedMassMatrix = dx/6. * np.array([[2, 1],[1, 2]])\n",
    "print('expected mass matrix:')\n",
    "print(np.array(expectedMassMatrix))\n",
    "print()\n",
    "print('computed mass matrix:')\n",
    "print(np.matrix(Mij()))\n",
    "print('\\n')\n",
    "\n",
    "expectedStiffnessMatrix = 0.5*np.array([[-1, 1],[-1, 1]])\n",
    "print('expected stiffness matrix:')\n",
    "print(np.array(expectedStiffnessMatrix))\n",
    "print()\n",
    "print('computed stiffness matrix:')\n",
    "print(np.matrix(Kij()))"
   ]
  },
  {
   "cell_type": "markdown",
   "id": "687f9a18",
   "metadata": {},
   "source": [
    "## Build the rest of the solver\n",
    "\n",
    "### Computing the right-hand side\n",
    "\n",
    "Recall that we want to solve (3),\n",
    "\n",
    "$$\n",
    "\\begin{equation} \\tag{3}\n",
    "\\frac{\\partial \\mathbf{a}_i}{\\partial t} = \\mathbf{M}^{-1} \\cdot \\Big( \\mathbf{F} - c \\, \\mathbf{a}_i \\cdot \\mathbf{K} \\Big).\n",
    "\\end{equation}\n",
    "$$\n",
    "\n",
    "We now have all of the ingredients to construct the right-hand side of (3), which we do in the cell below."
   ]
  },
  {
   "cell_type": "code",
   "execution_count": 47,
   "id": "3c131d34",
   "metadata": {},
   "outputs": [],
   "source": [
    "#define the right-hand side function; this takes as arguments\n",
    "#the cell index k, a coefficient vector at timestep n called a_n,\n",
    "#the inverse of the mass matrix Minv, and the stiffness matrix K\n",
    "def RHS(k, a_n, Minv, K):\n",
    "    return np.dot(Minv, c*np.dot(K, a_n[k])-f(k,a_n))"
   ]
  },
  {
   "cell_type": "markdown",
   "id": "3fdc5542",
   "metadata": {},
   "source": [
    "### Timestepper\n",
    "\n",
    "Now we have to address the left-hand side of (3).  To keep the solver _as simple as possible_, we'll use the forward Euler method.  In the cell below, we define a function called `step()` which takes one timestep and returns $a_i$ at the timestep $n+1$, and a function that repeatedly calls `step()` to evolve the system `TS` timesteps."
   ]
  },
  {
   "cell_type": "code",
   "execution_count": 48,
   "id": "5153de77-bb74-4d9b-9247-9de9779a08da",
   "metadata": {},
   "outputs": [],
   "source": [
    "#define step() function which returns a_np1 given a_n\n",
    "def step(a_n, a_np1, Minv, K):\n",
    "    #for each element compute a at the next time level\n",
    "    for k in range(N):\n",
    "        a_np1[k] = a_n[k] + dt*RHS(k, a_n, Minv, K)\n",
    "\n",
    "    return a_np1\n",
    "\n",
    "#evolve system TS timesteps; takes in # of timesteps TS,\n",
    "#coefficient vector at initial time a_n, and empty\n",
    "#coefficient vector at advanced time a_np1\n",
    "def evolve_TS_steps(TS, a_n, a_np1):\n",
    "    #compute mass matrix, stiffness matrix, inverse of\n",
    "    #mass matrix; do this just once per evolution,\n",
    "    #since these are all constant matrices\n",
    "    K    = Kij()\n",
    "    M    = Mij()\n",
    "    Minv = inv(M)\n",
    "\n",
    "    #save all data to an array called sol, starting with ID\n",
    "    sol = a_n\n",
    "    \n",
    "    for n in range(TS):\n",
    "        a_np1 = step(a_n, a_np1, Minv, K)\n",
    "        #append a_np1 to sol\n",
    "        sol = np.append(sol, a_np1)\n",
    "        #copy a_np1 into a_n for next timestep\n",
    "        a_n = a_np1\n",
    "\n",
    "    #reshape sol to be (TS, N, 2), so sol[n] = a_n \n",
    "    #at time level n\n",
    "    return np.reshape(sol, (TS+1, N, 2))"
   ]
  },
  {
   "cell_type": "markdown",
   "id": "b7c72274",
   "metadata": {},
   "source": [
    "### Setting initial data\n",
    "\n",
    "Now we need to set the initial data.  We will do this by specifying $q(t=0, x)$ through the function `q_ID()`, which we will then project onto the function space $V = \\{\\psi_0, \\psi_1\\}$ using the function `compute_ID_a()`."
   ]
  },
  {
   "cell_type": "code",
   "execution_count": 49,
   "id": "f4ff71bc-3d90-45c4-a94f-eead601cb59b",
   "metadata": {},
   "outputs": [],
   "source": [
    "#define a_n = solution vector at time level n; should have shape (N, 2), where\n",
    "#N is the number of elements (i.e. we have a_0, a_1 for each element)\n",
    "a_n = np.ones((N,2))\n",
    "\n",
    "#define a_np1 = solution vector at time level n+1; same shape as a_n\n",
    "a_np1 = np.ones((N,2))\n",
    "\n",
    "#define initial data.  Notice that for cell k, a_{0,k} = q(x_L)\n",
    "#and a_{1,k} = q(x_R)\n",
    "def q_ID(x):\n",
    "    mu = 0.5\n",
    "    sigma = 0.05\n",
    "    return np.exp(-(x-mu)**2./sigma**2.)\n",
    "\n",
    "#compute the coefficients a_n[k] corresponding to projecting analytic ID\n",
    "#from q_ID(x) onto the basis (psi_0, psi_1)\n",
    "def compute_ID_a(a_n):\n",
    "    for k in range(N):\n",
    "        a_n[k,0] = q_ID(cbound[k])\n",
    "        a_n[k,1] = q_ID(cbound[k+1])\n",
    "\n",
    "    return a_n"
   ]
  },
  {
   "cell_type": "markdown",
   "id": "c346c31e",
   "metadata": {},
   "source": [
    "Let's check that we've specified the initial data correctly.  Here we'll compute the coefficient vector `a_n` corresponding to the initial data, then we'll compute the corresponding solution $\\tilde{q}(x)$ and plot it alongside the analytic initial data from the `q_ID()` function.  \n",
    "\n",
    "To expedite this process, we define a helper function `plot_soln()` to make plots."
   ]
  },
  {
   "cell_type": "code",
   "execution_count": 50,
   "id": "59354886-0adb-4d29-b1f3-9cbbbf1cfbc0",
   "metadata": {},
   "outputs": [
    {
     "data": {
      "image/png": "[encoded data removed]",
      "text/plain": [
       "<Figure size 432x288 with 1 Axes>"
      ]
     },
     "metadata": {
      "needs_background": "light"
     },
     "output_type": "display_data"
    }
   ],
   "source": [
    "#plot solution given coefficient vector a_n; takes an optional matplotlib\n",
    "#style string\n",
    "def plot_soln(a_n, styleString=''):\n",
    "    #xi in each element\n",
    "    xi = np.linspace(0., 1, 10)\n",
    "\n",
    "    #plot approximate solution qtilde(x)\n",
    "    for k in range(N):\n",
    "        pl.plot(x(k,xi), qt(k, xi, a_n), styleString)\n",
    "\n",
    "#compute initial data\n",
    "a_n = compute_ID_a(a_n)\n",
    "\n",
    "#plot initial data as a black dotted line\n",
    "plot_soln(a_n)\n",
    "\n",
    "#plot exact initial data\n",
    "xx = np.linspace(xMin, xMax, 100)\n",
    "pl.plot(xx, q_ID(xx), 'k:')\n",
    "pl.xlabel('$x$')\n",
    "pl.ylabel('$\\\\tilde{q}(t=0, x)$')\n",
    "pl.show()"
   ]
  },
  {
   "cell_type": "markdown",
   "id": "47fbee1e",
   "metadata": {},
   "source": [
    "## Evolve the system\n",
    "\n",
    "Now that the solver is built and the initial data is specified, we can run the solver for `TS` timesteps and get out the final result.  This is done in the cell below."
   ]
  },
  {
   "cell_type": "code",
   "execution_count": 58,
   "id": "6f3c3f08",
   "metadata": {},
   "outputs": [
    {
     "data": {
      "image/png": "[encoded data removed]",
      "text/plain": [
       "<Figure size 432x288 with 1 Axes>"
      ]
     },
     "metadata": {
      "needs_background": "light"
     },
     "output_type": "display_data"
    }
   ],
   "source": [
    "#compute solution after TS timesteps\n",
    "sol = evolve_TS_steps(TS, a_n, a_np1)\n",
    "\n",
    "#plot solution after TS timesteps\n",
    "plot_soln(sol[1])\n",
    "pl.show()"
   ]
  },
  {
   "cell_type": "code",
   "execution_count": 52,
   "id": "f9991e78-d955-4d04-a70e-adb5a03bc1b2",
   "metadata": {},
   "outputs": [],
   "source": [
    "#define analytic solution, which is just q_ID(x-c*t)\n",
    "def q_analytic(x, t):\n",
    "    return q_ID(x-c*t)"
   ]
  },
  {
   "cell_type": "markdown",
   "id": "5cea2a9c-9a38-479e-a428-eb964cdec9d9",
   "metadata": {},
   "source": [
    "Solve the system"
   ]
  },
  {
   "cell_type": "code",
   "execution_count": 17,
   "id": "36242a45-9469-4582-83ca-d075b05e274e",
   "metadata": {},
   "outputs": [
    {
     "data": {
      "image/png": "[encoded data removed]",
      "text/plain": [
       "<Figure size 640x480 with 1 Axes>"
      ]
     },
     "metadata": {},
     "output_type": "display_data"
    }
   ],
   "source": []
  },
  {
   "cell_type": "code",
   "execution_count": 18,
   "id": "4190bb1c-b522-4f2d-9f7b-a63d8ed35932",
   "metadata": {},
   "outputs": [
    {
     "data": {
      "image/png": "[encoded data removed]",
      "text/plain": [
       "<Figure size 640x480 with 1 Axes>"
      ]
     },
     "metadata": {},
     "output_type": "display_data"
    }
   ],
   "source": [
    "#make frames for movie\n",
    "for n in range(0,TS+1,50):\n",
    "    plot_soln(sol[n], 'k-')\n",
    "pl.show()"
   ]
  },
  {
   "cell_type": "code",
   "execution_count": 20,
   "id": "1615b0b9-32bf-4a08-b14f-dfbdd73cfb11",
   "metadata": {},
   "outputs": [
    {
     "data": {
      "image/png": "[encoded data removed]",
      "text/plain": [
       "<Figure size 640x480 with 1 Axes>"
      ]
     },
     "metadata": {},
     "output_type": "display_data"
    }
   ],
   "source": [
    "#compare DG solution to analytic solution\n",
    "n = TS\n",
    "plot_soln(sol[n])\n",
    "\n",
    "t = [dt*n for n in range(TS+1)]\n",
    "\n",
    "x1 = np.linspace(0, 1, 100)\n",
    "pl.plot(x1, q_analytic(x1, t[n]))\n",
    "pl.show()"
   ]
  },
  {
   "cell_type": "code",
   "execution_count": null,
   "id": "baa6853c-800c-42d3-9b1c-0c9d55927ea8",
   "metadata": {},
   "outputs": [],
   "source": []
  }
 ],
 "metadata": {
  "kernelspec": {
   "display_name": "Python 3 (ipykernel)",
   "language": "python",
   "name": "python3"
  },
  "language_info": {
   "codemirror_mode": {
    "name": "ipython",
    "version": 3
   },
   "file_extension": ".py",
   "mimetype": "text/x-python",
   "name": "python",
   "nbconvert_exporter": "python",
   "pygments_lexer": "ipython3",
   "version": "3.10.12"
  }
 },
 "nbformat": 4,
 "nbformat_minor": 5
}
